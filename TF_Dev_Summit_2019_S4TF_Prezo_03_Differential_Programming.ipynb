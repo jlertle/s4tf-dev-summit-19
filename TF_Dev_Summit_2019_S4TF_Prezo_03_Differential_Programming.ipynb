{
  "nbformat": 4,
  "nbformat_minor": 0,
  "metadata": {
    "colab": {
      "name": "TF Dev Summit - 2019 - S4TF Prezo - 03 Differential Programming",
      "version": "0.3.2",
      "provenance": [],
      "collapsed_sections": []
    },
    "kernelspec": {
      "name": "swift",
      "display_name": "Swift"
    }
  },
  "cells": [
    {
      "metadata": {
        "id": "-QeWSXfaotcQ",
        "colab_type": "text"
      },
      "cell_type": "markdown",
      "source": [
        "# Deep dive on differential programming"
      ]
    },
    {
      "metadata": {
        "id": "pyA2vCLipo8n",
        "colab_type": "text"
      },
      "cell_type": "markdown",
      "source": [
        "# Custom differential data types\n"
      ]
    },
    {
      "metadata": {
        "id": "Ug-TmV78LKcf",
        "colab_type": "code",
        "colab": {}
      },
      "cell_type": "code",
      "source": [
        "struct Point: Differentiable {\n",
        "    var x: Double\n",
        "    var y: Double\n",
        "\n",
        "    // Define an arbitrary method on our type, and ask the compiler to compute\n",
        "    // the derivative at compile time.\n",
        "    @differentiable\n",
        "    func foo() -> Double {\n",
        "        return x * x + 2 * y\n",
        "    }\n",
        "}"
      ],
      "execution_count": 0,
      "outputs": []
    },
    {
      "metadata": {
        "id": "Y5CHuaHjr_rp",
        "colab_type": "code",
        "colab": {}
      },
      "cell_type": "code",
      "source": [
        "// Define an arbitrary method taking two different differentiable types, and\n",
        "// request the compiler compute the derivative at compile time.\n",
        "@differentiable\n",
        "func bar(_ point: Point, _ real: Double) -> Double {\n",
        "  return (point.foo() * real) + (point.y) / real - point.x / 2\n",
        "}"
      ],
      "execution_count": 0,
      "outputs": []
    },
    {
      "metadata": {
        "id": "uKwJSp2is8Hd",
        "colab_type": "code",
        "colab": {}
      },
      "cell_type": "code",
      "source": [
        "print(gradient(at: Point(x: 3, y: 1)) { point in bar(point, 7.1) })\n",
        "print(gradient(at: Point(x: 5, y: -17.3)) { point in bar(point, 0.3) })"
      ],
      "execution_count": 0,
      "outputs": []
    },
    {
      "metadata": {
        "id": "UZMB5-WltZda",
        "colab_type": "code",
        "colab": {}
      },
      "cell_type": "code",
      "source": [
        "let point = Point(x: 0.3, y: -1.7)\n",
        "print(gradient(at: 1.3) { real in bar(point, real) })\n",
        "print(gradient(at: -0.4) { real in bar(point, real) })"
      ],
      "execution_count": 0,
      "outputs": []
    },
    {
      "metadata": {
        "id": "VvjLii-IvWVt",
        "colab_type": "code",
        "colab": {}
      },
      "cell_type": "code",
      "source": [
        "print(gradient(at: Point(x: 0.3, y: -1.7), 0.6) { point, real in bar(point, real)})"
      ],
      "execution_count": 0,
      "outputs": []
    },
    {
      "metadata": {
        "id": "dHWioLtEwClQ",
        "colab_type": "code",
        "colab": {}
      },
      "cell_type": "code",
      "source": [
        "let (val, grad) = valueWithGradient(at: Point(x: -1.7,\n",
        "                                    y: 0.3), 0.6) { point, real in\n",
        "  bar(point, real)\n",
        "}\n",
        "\n",
        "print(\"The value of bar is: \\(val)\")\n",
        "\n",
        "// Grad is a tuple, containing the partial derivatives for the complex number,\n",
        "// and the real number.\n",
        "print(\"The gradients of bar are: \\(grad.0), and \\(grad.1)\")"
      ],
      "execution_count": 0,
      "outputs": []
    },
    {
      "metadata": {
        "id": "HEGhufKVyNxn",
        "colab_type": "text"
      },
      "cell_type": "markdown",
      "source": [
        "# Fibonacci Activations\n"
      ]
    },
    {
      "metadata": {
        "id": "de01uJo9D__L",
        "colab_type": "code",
        "colab": {}
      },
      "cell_type": "code",
      "source": [
        "// A recursive implementation of the Fibonacci function.\n",
        "func fib(_ n: Int) -> Int {\n",
        "  if n <= 2 {\n",
        "    return 1\n",
        "  }\n",
        "  return fib(n - 1) + fib(n - 2)\n",
        "}"
      ],
      "execution_count": 0,
      "outputs": []
    },
    {
      "metadata": {
        "id": "eW2qd7MHENt-",
        "colab_type": "code",
        "colab": {}
      },
      "cell_type": "code",
      "source": [
        "// We define a typealias for clarity (and to help type inference).\n",
        "typealias ActivationFunction = @differentiable (Float32) -> Float32"
      ],
      "execution_count": 0,
      "outputs": []
    },
    {
      "metadata": {
        "id": "-3-3wC-_Ej0k",
        "colab_type": "code",
        "colab": {}
      },
      "cell_type": "code",
      "source": [
        "import TensorFlow // For round function\n",
        "\n",
        "let fibActivation: ActivationFunction = differentiableFunction { input in\n",
        "  let baseNumber = Int(round(input))  // Round to the nearest integer.\n",
        "  let prev = fib(baseNumber - 1)\n",
        "  let doublePrev = fib(baseNumber - 2)\n",
        "  // Return the value, and a closure to compute the backward pass.\n",
        "  return (Float32(prev + doublePrev),\n",
        "          { chain in Float(doublePrev) + chain })\n",
        "}"
      ],
      "execution_count": 0,
      "outputs": []
    },
    {
      "metadata": {
        "id": "jNacJ2vFE6v5",
        "colab_type": "code",
        "colab": {}
      },
      "cell_type": "code",
      "source": [
        "// Compute the value and the gradient for our activation function for an input.\n",
        "valueWithGradient(at: 17) { fibActivation($0)}"
      ],
      "execution_count": 0,
      "outputs": []
    },
    {
      "metadata": {
        "id": "FUeeiACGFG-Y",
        "colab_type": "code",
        "colab": {}
      },
      "cell_type": "code",
      "source": [
        ""
      ],
      "execution_count": 0,
      "outputs": []
    }
  ]
}