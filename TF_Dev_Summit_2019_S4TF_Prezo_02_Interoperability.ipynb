{
  "nbformat": 4,
  "nbformat_minor": 0,
  "metadata": {
    "colab": {
      "name": "TF Dev Summit - 2019 - S4TF Prezo - 02 Interoperability",
      "version": "0.3.2",
      "provenance": [],
      "collapsed_sections": []
    },
    "kernelspec": {
      "name": "swift",
      "display_name": "Swift"
    }
  },
  "cells": [
    {
      "metadata": {
        "id": "-EmSwFktm8eO",
        "colab_type": "text"
      },
      "cell_type": "markdown",
      "source": [
        "# Seamless Python Interoperability\n"
      ]
    },
    {
      "metadata": {
        "id": "kZRlD4utdPuX",
        "colab_type": "code",
        "colab": {}
      },
      "cell_type": "code",
      "source": [
        "import TensorFlow\n",
        "import Python\n",
        "%include \"EnableIPythonDisplay.swift\""
      ],
      "execution_count": 0,
      "outputs": []
    },
    {
      "metadata": {
        "id": "2_mVGpk3onxv",
        "colab_type": "code",
        "colab": {}
      },
      "cell_type": "code",
      "source": [
        "let plt = Python.import(\"matplotlib.pyplot\")\n",
        "let np = Python.import(\"numpy\")\n",
        "\n",
        "IPythonDisplay.shell.enable_matplotlib(\"inline\")\n",
        "\n",
        "let x = np.linspace(0, 10, 100)\n",
        "\n",
        "plt.plot(x, np.sin(x))\n",
        "plt.plot(x, np.cos(x))\n",
        "\n",
        "plt.show()"
      ],
      "execution_count": 0,
      "outputs": []
    },
    {
      "metadata": {
        "id": "hPPeGNApt4FE",
        "colab_type": "text"
      },
      "cell_type": "markdown",
      "source": [
        "# Demo: RL with OpenAI Gym\n"
      ]
    },
    {
      "metadata": {
        "id": "hJ4J8BiCIpI7",
        "colab_type": "code",
        "colab": {}
      },
      "cell_type": "code",
      "source": [
        "let gym = Python.import(\"gym\")\n",
        "\n",
        "/// Model parameters and hyper parameters.\n",
        "let hiddenSize = 128\n",
        "let batchSize = 16\n",
        "/// Controls the amount of good/long episodes to retain for training.\n",
        "let percentile = 70\n",
        "\n",
        "// Force unwrapping with ! does not provide source location when unwrapping\n",
        "// nil, so we instead make a util function for debuggability.\n",
        "fileprivate extension Optional {\n",
        "  func unwrapped(file: StaticString = #file, line: UInt = #line) -> Wrapped {\n",
        "    guard let unwrapped = self else {\n",
        "      fatalError(\"Value is nil\", file: file, line: line)\n",
        "    }\n",
        "    return unwrapped\n",
        "  }\n",
        "}"
      ],
      "execution_count": 0,
      "outputs": []
    },
    {
      "metadata": {
        "id": "ogCNnuIfuZhM",
        "colab_type": "code",
        "colab": {}
      },
      "cell_type": "code",
      "source": [
        "/// A simple two layer dense net.\n",
        "struct Net: Layer {\n",
        "  var l1, l2: Dense<Float>\n",
        "\n",
        "  init(observationSize: Int, hiddenSize: Int, actionCount: Int) {\n",
        "    self.l1 = Dense<Float>(\n",
        "      inputSize: observationSize, outputSize: hiddenSize, activation: relu)\n",
        "\n",
        "    self.l2 = Dense<Float>(inputSize: hiddenSize, outputSize: actionCount)\n",
        "  }\n",
        "\n",
        "  @differentiable\n",
        "  func applied(to input: Tensor<Float>, in context: Context) -> Tensor<Float> {\n",
        "    return input.sequenced(in: context, through: l1, l2)\n",
        "  }\n",
        "}\n",
        "\n",
        "/// An episode is a list of steps, where each step records the observation from\n",
        "/// env and the action taken. They will serve respectively as the input and\n",
        "/// target (label) of the neural net training.\n",
        "struct Episode {\n",
        "  struct Step {\n",
        "    let observation: Tensor<Float>\n",
        "    let action: Int32\n",
        "  }\n",
        "\n",
        "  let steps: [Step]\n",
        "  let reward: Float\n",
        "}"
      ],
      "execution_count": 0,
      "outputs": []
    },
    {
      "metadata": {
        "id": "w9x8OuioucPl",
        "colab_type": "code",
        "colab": {}
      },
      "cell_type": "code",
      "source": [
        "/// Filter out bad/short episodes before we feed them as neural net training\n",
        "/// data.\n",
        "func filteringBatch(episodes: [Episode],\n",
        "                    actionCount: Int\n",
        ") -> (input: Tensor<Float>,\n",
        "      target: Tensor<Float>,\n",
        "      episodeCount: Int,\n",
        "      meanReward: Float) {\n",
        "  let rewards = episodes.map { $0.reward }\n",
        "  let rewardBound = Float(np.percentile(rewards, percentile))!\n",
        "  print(\"rewardBound = \\(rewardBound)\")\n",
        "\n",
        "  var input = Tensor<Float>(0.0)\n",
        "  var target = Tensor<Float>(0.0)\n",
        "  var totalReward: Float = 0.0\n",
        "\n",
        "  var retainedEpisodeCount = 0\n",
        "  for episode in episodes {\n",
        "    if episode.reward < rewardBound {\n",
        "      continue\n",
        "    }\n",
        "\n",
        "    let observationTensor = Tensor<Float>(episode.steps.map { $0.observation })\n",
        "    let actionTensor = Tensor<Int32>(episode.steps.map { $0.action })\n",
        "    let oneHotLabels = Tensor<Float>(oneHotAtIndices: actionTensor, depth: Int32(actionCount))\n",
        "\n",
        "    // print(\"observations tensor has shape \\(observationTensor.shapeTensor)\")\n",
        "    // print(\"actions tensor has shape \\(actionTensor.shapeTensor)\")\n",
        "    // print(\"onehot actions tensor has shape \\(oneHotLabels.shapeTensor)\")\n",
        "\n",
        "    if retainedEpisodeCount == 0 {\n",
        "      input = observationTensor\n",
        "      target = oneHotLabels\n",
        "    } else {\n",
        "      input = input.concatenated(with: observationTensor)\n",
        "      target = target.concatenated(with: oneHotLabels)\n",
        "    }\n",
        "    // print(\"input tensor has shape \\(input.shapeTensor)\")\n",
        "    // print(\"target tensor has shape \\(target.shapeTensor)\")\n",
        "\n",
        "    totalReward += episode.reward\n",
        "    retainedEpisodeCount += 1\n",
        "  }\n",
        "  \n",
        "  return (input, target, retainedEpisodeCount, totalReward / Float(retainedEpisodeCount))\n",
        "}"
      ],
      "execution_count": 0,
      "outputs": []
    },
    {
      "metadata": {
        "id": "Mg9ig-F7uecY",
        "colab_type": "code",
        "colab": {}
      },
      "cell_type": "code",
      "source": [
        "func nextBatch(env: PythonObject,\n",
        "               net: Net,\n",
        "               batchSize: Int,\n",
        "               actionCount: Int\n",
        ") -> [Episode] {\n",
        "  var observationNumpy = env.reset()\n",
        "\n",
        "  let context = Context(learningPhase: .inference)\n",
        "  var episodes: [Episode] = []\n",
        "  \n",
        "  // We build up a batch of observations and actions.\n",
        "  for _ in 0..<batchSize {\n",
        "    var steps: [Episode.Step] = []\n",
        "    var episodeReward: Float = 0.0\n",
        "\n",
        "    while true {\n",
        "      let observationPython = Tensor<Double>(numpy: observationNumpy).unwrapped()\n",
        "      let actionProbabilities =\n",
        "          softmax(net.applied(to: Tensor(observationPython).reshaped(to: [1, 4]), in: context))\n",
        "      let actionProbabilitiesPython = actionProbabilities[0].makeNumpyArray()\n",
        "      let len = Python.len(actionProbabilitiesPython)\n",
        "      assert(actionCount == Int(Python.len(actionProbabilitiesPython)))\n",
        "      \n",
        "      let actionPython = np.random.choice(len, p: actionProbabilitiesPython)\n",
        "      let (nextObservation, reward, isDone, _) = env.step(actionPython).tuple4\n",
        "      // print(nextObservation)\n",
        "      // print(reward)\n",
        "\n",
        "      steps.append(Episode.Step(observation: Tensor<Float>(observationPython),\n",
        "                                action: Int32(actionPython).unwrapped()))\n",
        "\n",
        "      episodeReward += Float(reward).unwrapped()\n",
        "\n",
        "      if isDone == true {\n",
        "        // print(\"Finishing an episode with \\(observations.count) steps and total reward \\(episodeReward)\")\n",
        "        episodes.append(Episode(steps: steps, reward: episodeReward))\n",
        "        observationNumpy = env.reset()\n",
        "        break\n",
        "      } else {\n",
        "        observationNumpy = nextObservation\n",
        "      }\n",
        "    }\n",
        "  }\n",
        "\n",
        "  return episodes\n",
        "}"
      ],
      "execution_count": 0,
      "outputs": []
    },
    {
      "metadata": {
        "id": "OzAYq5lbuoJB",
        "colab_type": "code",
        "outputId": "572fddd1-4e67-4945-f345-3617a441e391",
        "colab": {
          "base_uri": "https://localhost:8080/",
          "height": 2915
        }
      },
      "cell_type": "code",
      "source": [
        "let env = gym.make(\"CartPole-v0\")\n",
        "let observationSize = Int(env.observation_space.shape[0]).unwrapped()\n",
        "let actionCount = Int(env.action_space.n).unwrapped()\n",
        "// print(actionCount)\n",
        "\n",
        "var meanRewards: [Float] = []\n",
        "\n",
        "var net = Net(observationSize: Int(observationSize), hiddenSize: hiddenSize, actionCount: actionCount)\n",
        "/// SGD optimizer reaches convergence with ~125 mini batches, while Adam uses ~25.\n",
        "// let optimizer = SGD<Net, Float>(learningRate: 0.1, momentum: 0.9)\n",
        "let optimizer = Adam<Net, Float>(learningRate: 0.01)\n",
        "var batchIndex = 0\n",
        "while true {\n",
        "  print(\"Processing mini batch \\(batchIndex)\")\n",
        "  batchIndex += 1\n",
        "  \n",
        "  let episodes = nextBatch(env: env, net: net, batchSize: batchSize, actionCount: actionCount)\n",
        "  let (input, target, episodeCount, meanReward) = filteringBatch(\n",
        "    episodes: episodes, actionCount: actionCount)\n",
        "\n",
        "  let gradients = gradient(at: net) { model -> Tensor<Float> in\n",
        "    let context = Context(learningPhase: .training)\n",
        "    let logits = model.applied(to: input, in: context)\n",
        "    let loss = softmaxCrossEntropy(logits: logits, labels: target)\n",
        "    print(\"loss is \\(loss)\")\n",
        "    return loss\n",
        "  }\n",
        "  optimizer.update(&net.allDifferentiableVariables, along: gradients)\n",
        "\n",
        "  print(\"It has episode count \\(episodeCount) and mean reward \\(meanReward)\")\n",
        "  meanRewards.append(meanReward)\n",
        "\n",
        "  if meanReward > 199 {\n",
        "    print(\"Solved\")\n",
        "    break\n",
        "  }\n",
        "}"
      ],
      "execution_count": 0,
      "outputs": [],
    },
    {
      "metadata": {
        "id": "BBYAOCxHuqZb",
        "colab_type": "code",
        "outputId": "69891c4d-235d-45d9-8f6b-3590e24796b0",
        "colab": {
          "base_uri": "https://localhost:8080/",
          "height": 287
        }
      },
      "cell_type": "code",
      "source": [
        "plt.plot(meanRewards)\n",
        "plt.show()"
      ],
      "execution_count": 0,
      "outputs": [
        {
          "output_type": "display_data",
          "data": {
            "image/png": "iVBORw0KGgoAAAANSUhEUgAAAXoAAAD8CAYAAAB5Pm/hAAAABHNCSVQICAgIfAhkiAAAAAlwSFlz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\nAAAASUVORK5CYII=\n",
            "text/plain": [
              "<Figure size 432x288 with 1 Axes>"
            ]
          },
          "metadata": {
            "tags": []
          }
        },
        {
          "output_type": "execute_result",
          "data": {
            "text/plain": [
              "None\n"
            ]
          },
          "metadata": {
            "tags": []
          },
          "execution_count": 8
        }
      ]
    }
  ]
}